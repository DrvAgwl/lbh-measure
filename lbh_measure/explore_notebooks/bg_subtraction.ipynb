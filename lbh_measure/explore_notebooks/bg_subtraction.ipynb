{
 "cells": [
  {
   "cell_type": "code",
   "execution_count": 1,
   "metadata": {},
   "outputs": [],
   "source": [
    "import open3d as o3d\n",
    "import numpy as np"
   ]
  },
  {
   "cell_type": "code",
   "execution_count": 2,
   "metadata": {},
   "outputs": [],
   "source": [
    "pcd = o3d.io.read_point_cloud('/Users/nikhil.k/data/dev/lbh/data-Sep-08/conveted_pcd/SGE00J3JXMN1GR001S.pcd')"
   ]
  },
  {
   "cell_type": "code",
   "execution_count": 3,
   "metadata": {},
   "outputs": [],
   "source": [
    "# tmpnh.param<double>(\"minX\", minX, -0.55);\n",
    "#     tmpnh.param<double>(\"minY\", minY, -0.65);\n",
    "#     tmpnh.param<double>(\"minZ\", minZ, 0.02); // atleast 2cm clearance from ground plane!\n",
    "#     tmpnh.param<double>(\"maxX\", maxX, 0.55);\n",
    "#     tmpnh.param<double>(\"maxY\", maxY, 0.65);\n",
    "#     tmpnh.param<double>(\"maxZ\", maxZ, 0.8);\n",
    "\n",
    "min_bound = np.array([-0.48, -0.65, 0.02])\n",
    "max_boud = np.array([0.55, 0.65, 0.8])\n",
    "box = o3d.geometry.AxisAlignedBoundingBox(min_bound = min_bound, max_bound=max_boud)"
   ]
  },
  {
   "cell_type": "code",
   "execution_count": 4,
   "metadata": {},
   "outputs": [],
   "source": [
    "cropped_pcd = pcd.crop(box)"
   ]
  },
  {
   "cell_type": "code",
   "execution_count": 5,
   "metadata": {},
   "outputs": [],
   "source": [
    "o3d.visualization.draw_geometries([cropped_pcd])"
   ]
  },
  {
   "cell_type": "code",
   "execution_count": 6,
   "metadata": {},
   "outputs": [],
   "source": [
    "# octree = o3d.geometry.Octree(max_depth=4,)\n",
    "# octree.convert_from_point_cloud(cropped_pcd, size_expand=0.05)"
   ]
  },
  {
   "cell_type": "code",
   "execution_count": 9,
   "metadata": {},
   "outputs": [],
   "source": [
    "pcd_tree = o3d.geometry.KDTreeFlann(cropped_pcd)\n",
    "selected_points = []\n",
    "for point_index in range(np.array(cropped_pcd.points).shape[0]):\n",
    "    [k, idx, _] = pcd_tree.search_radius_vector_3d(cropped_pcd.points[point_index], 0.015)\n",
    "    if k > 1:\n",
    "        selected_points.append(point_index)"
   ]
  },
  {
   "cell_type": "code",
   "execution_count": 10,
   "metadata": {},
   "outputs": [],
   "source": [
    "o3d.visualization.draw_geometries([cropped_pcd.select_by_index(selected_points)])"
   ]
  },
  {
   "cell_type": "code",
   "execution_count": null,
   "metadata": {},
   "outputs": [],
   "source": []
  }
 ],
 "metadata": {
  "interpreter": {
   "hash": "3da4f59ad0f0f7a92f59c5e6cf444db08b969aa3f9f9c39f0f6babf32b2faf6f"
  },
  "kernelspec": {
   "display_name": "Python 3.8.11 64-bit ('venv_py38': venv)",
   "name": "python3"
  },
  "language_info": {
   "codemirror_mode": {
    "name": "ipython",
    "version": 3
   },
   "file_extension": ".py",
   "mimetype": "text/x-python",
   "name": "python",
   "nbconvert_exporter": "python",
   "pygments_lexer": "ipython3",
   "version": "3.8.12"
  },
  "orig_nbformat": 4
 },
 "nbformat": 4,
 "nbformat_minor": 2
}
