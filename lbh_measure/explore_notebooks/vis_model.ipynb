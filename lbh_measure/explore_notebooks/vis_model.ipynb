{
 "cells": [
  {
   "cell_type": "code",
   "execution_count": 1,
   "metadata": {},
   "outputs": [],
   "source": [
    "import torch\n",
    "import numpy as np\n",
    "import open3d as o3d\n",
    "from omegaconf import OmegaConf\n",
    "import copy\n",
    "\n",
    "from model_builder import ModelBuilder\n",
    "from data import BagDataset\n",
    "from util import get_colors"
   ]
  },
  {
   "cell_type": "code",
   "execution_count": 2,
   "metadata": {},
   "outputs": [],
   "source": [
    "config = OmegaConf.load('conf.yml')\n",
    "config.k = 9\n",
    "# config.model_path = '/Users/nikhil.k/data/dev/lbh/databricks_models/best_model.ckpt'\n",
    "# config.model_path = \"/Users/nikhil.k/data/dev/lbh/databricks_models/mlflow_best.ckpt\"\n",
    "config.model_path = \"/Users/nikhil.k/data/dev/lbh/databricks_models/no_floor.ckpt\""
   ]
  },
  {
   "cell_type": "code",
   "execution_count": 3,
   "metadata": {},
   "outputs": [],
   "source": [
    "model = ModelBuilder.load_from_checkpoint(config=config, checkpoint_path=config.model_path)"
   ]
  },
  {
   "cell_type": "code",
   "execution_count": 4,
   "metadata": {},
   "outputs": [
    {
     "ename": "TypeError",
     "evalue": "parse_data() missing 1 required positional argument: 'file_name'",
     "output_type": "error",
     "traceback": [
      "\u001b[0;31m---------------------------------------------------------------------------\u001b[0m",
      "\u001b[0;31mTypeError\u001b[0m                                 Traceback (most recent call last)",
      "\u001b[0;32m/var/folders/9y/hv72k7_d6bd8975p_sj73ych0000gp/T/ipykernel_81529/869501618.py\u001b[0m in \u001b[0;36m<module>\u001b[0;34m\u001b[0m\n\u001b[0;32m----> 1\u001b[0;31m parsed_data, pcd = BagDataset.parse_data(\n\u001b[0m\u001b[1;32m      2\u001b[0m     \u001b[0;31m# \"/Users/nikhil.k/data/dev/lbh/converted-bag/labels/test_labels/p12_2021-04-15-00-44-02.json\"\u001b[0m\u001b[0;34m\u001b[0m\u001b[0;34m\u001b[0m\u001b[0;34m\u001b[0m\u001b[0m\n\u001b[1;32m      3\u001b[0m     \u001b[0;34m\"/Users/nikhil.k/data/dev/lbh/converted-bag/labels/train_labels/p7_2021-04-15-00-50-02.json\"\u001b[0m\u001b[0;34m\u001b[0m\u001b[0;34m\u001b[0m\u001b[0m\n\u001b[1;32m      4\u001b[0m )\n\u001b[1;32m      5\u001b[0m \u001b[0mroi_pcd\u001b[0m\u001b[0;34m,\u001b[0m \u001b[0mob_roi\u001b[0m \u001b[0;34m=\u001b[0m \u001b[0mBagDataset\u001b[0m\u001b[0;34m.\u001b[0m\u001b[0mcrop_volume\u001b[0m\u001b[0;34m(\u001b[0m\u001b[0mpcd\u001b[0m\u001b[0;34m,\u001b[0m \u001b[0mparsed_data\u001b[0m\u001b[0;34m[\u001b[0m\u001b[0;34m'roi'\u001b[0m\u001b[0;34m]\u001b[0m\u001b[0;34m)\u001b[0m\u001b[0;34m\u001b[0m\u001b[0;34m\u001b[0m\u001b[0m\n",
      "\u001b[0;31mTypeError\u001b[0m: parse_data() missing 1 required positional argument: 'file_name'"
     ]
    }
   ],
   "source": [
    "parsed_data, pcd = BagDataset.parse_data(\n",
    "    # \"/Users/nikhil.k/data/dev/lbh/converted-bag/labels/test_labels/p12_2021-04-15-00-44-02.json\"\n",
    "    \"/Users/nikhil.k/data/dev/lbh/converted-bag/labels/train_labels/p7_2021-04-15-00-50-02.json\"\n",
    ")\n",
    "roi_pcd, ob_roi = BagDataset.crop_volume(pcd, parsed_data['roi'])\n",
    "box_pcd, ob_box = BagDataset.crop_volume(pcd, parsed_data['box'])\n",
    "\n",
    "roi_points, roi_colors, roi_normals = BagDataset.get_np_points(roi_pcd)\n",
    "box_points, box_colors, box_normals = BagDataset.get_np_points(box_pcd)\n",
    "\n",
    "labels_one_hot = BagDataset.get_labels(box_points, roi_points).unsqueeze(0)\n",
    "# The shape #points, 9 (3-xyz, 3-rgb, 3-normals)\n",
    "input_tensor = torch.zeros((1, roi_points.shape[0], 9))\n",
    "input_tensor[0, :, 0:3] = torch.tensor(roi_points)\n",
    "input_tensor[0, :, 3:6] = torch.tensor(roi_colors)\n",
    "# if config.get(\"set_normals\"):\n",
    "    # input_tensor[0, 6:9, :] = torch.tensor(roi_normals.transpose())"
   ]
  },
  {
   "cell_type": "code",
   "execution_count": null,
   "metadata": {},
   "outputs": [],
   "source": [
    "input_tensor = input_tensor.permute(0, 2, 1)\n",
    "pred = model(input_tensor)\n",
    "pred_all = pred.permute(0, 2, 1).contiguous()\n",
    "pred = pred_all.max(dim=2)[1]"
   ]
  },
  {
   "cell_type": "code",
   "execution_count": null,
   "metadata": {},
   "outputs": [],
   "source": [
    "def color_pcd(pred, pcd):\n",
    "    colors = []\n",
    "    pred_np = pred#.detach().numpy()[0]\n",
    "    pred_colors = np.zeros((pred_np.shape[0], 3))\n",
    "    sem_seg_colors = get_colors()\n",
    "    for index in range(pred_np.shape[0]):\n",
    "        color = pred_np[index]+1\n",
    "        pred_colors[index, :] = np.array(sem_seg_colors[color])#/255.0\n",
    "\n",
    "    predicted_pcd = copy.deepcopy(pcd)\n",
    "    predicted_pcd.colors = o3d.utility.Vector3dVector(pred_colors/255.0)\n",
    "    return predicted_pcd"
   ]
  },
  {
   "cell_type": "code",
   "execution_count": null,
   "metadata": {},
   "outputs": [
    {
     "data": {
      "text/plain": [
       "0.0005464177646234784"
      ]
     },
     "execution_count": 26,
     "metadata": {},
     "output_type": "execute_result"
    }
   ],
   "source": [
    "hull, _ = predicted_pcd.compute_convex_hull()\n",
    "hull.get_volume()"
   ]
  },
  {
   "cell_type": "code",
   "execution_count": null,
   "metadata": {},
   "outputs": [],
   "source": [
    "predicted_pcd = color_pcd(pred.detach().numpy()[0], roi_pcd)"
   ]
  },
  {
   "cell_type": "code",
   "execution_count": null,
   "metadata": {},
   "outputs": [],
   "source": [
    "# hull, _ = box.compute_convex_hull()\n",
    "# hull.orient_triangles()\n",
    "# hull.compute_vertex_normals()\n",
    "# box2 = hull.sample_points_poisson_disk(3000)\n",
    "# lineset = o3d.geometry.LineSet.create_from_triangle_mesh(hull)\n",
    "\n",
    "\n",
    "# pcd_t = copy.deepcopy(roi_pcd).translate((1.5, 0, 0))\n",
    "# pred_t = copy.deepcopy(predicted_pcd).translate((2.5, 0, 0))\n",
    "# box_t = copy.deepcopy(box).translate((3.5, 0, 0))\n",
    "# pred_t_lineset = copy.deepcopy(predicted_pcd).translate((4.5, 0, 0))\n",
    "# lineset_t = copy.deepcopy(lineset).translate((4.5, 0, 0))\n",
    "# o3d.visualization.draw_geometries([pcd_t, pred_t, box_t, pred_t_lineset, lineset_t], window_name='')\n",
    "# # o3d.visualization.draw_geometries([pred_t], window_name='')"
   ]
  },
  {
   "cell_type": "code",
   "execution_count": null,
   "metadata": {},
   "outputs": [],
   "source": [
    "def generate_vis(pred, predicted_pcd, threshold=0.01):\n",
    "\n",
    "    box = predicted_pcd.select_by_index(np.where(pred==1)[1])\n",
    "    box_p = np.array(box.points)\n",
    "    box_filtered = box.select_by_index(np.where(box_p[:, 2]>threshold)[0])\n",
    "\n",
    "\n",
    "    # from sklearn.neighbors import LocalOutlierFactor\n",
    "    # clf = LocalOutlierFactor(n_neighbors=2)\n",
    "    # out_liers = clf.fit_predict(np.array(box_filtered.points))\n",
    "    # box_filtered = box_filtered.select_by_index(np.where(out_liers==1)[0])\n",
    "\n",
    "\n",
    "    hull, _ = box_filtered.compute_convex_hull()\n",
    "    hull.orient_triangles()\n",
    "    hull.compute_vertex_normals()\n",
    "    lineset = o3d.geometry.LineSet.create_from_triangle_mesh(hull)\n",
    "\n",
    "    points = np.array(predicted_pcd.points)\n",
    "    x = predicted_pcd.select_by_index(np.where(points[:,2] > threshold)[0])\n",
    "\n",
    "\n",
    "    pcd_t = copy.deepcopy(roi_pcd).translate((1.5, 0, 0))\n",
    "    pred_t = copy.deepcopy(x).translate((2.5, 0, 0))\n",
    "    box_t = copy.deepcopy(box).translate((3.5, 0, 0))\n",
    "    pred_t_lineset = copy.deepcopy(x).translate((4.5, 0, 0))\n",
    "    lineset_t = copy.deepcopy(lineset).translate((4.5, 0, 0))\n",
    "    # o3d.visualization.draw_geometries([pcd_t, pred_t, box_t, pred_t_lineset, lineset_t, x], window_name='')\n",
    "    o3d.visualization.draw_geometries([pred_t_lineset, lineset_t], window_name='')\n",
    "    # o3d.visualization.draw_geometries([pred_t], window_name='')\n",
    "    # return x"
   ]
  },
  {
   "cell_type": "code",
   "execution_count": null,
   "metadata": {},
   "outputs": [],
   "source": [
    "from sklearn.neighbors import KNeighborsClassifier\n",
    "clf = KNeighborsClassifier(2, weights='distance')\n",
    "clf.fit(np.array(roi_pcd.points), pred[0])\n",
    "pred_nn = clf.predict(np.array(roi_pcd.points))"
   ]
  },
  {
   "cell_type": "code",
   "execution_count": null,
   "metadata": {},
   "outputs": [],
   "source": [
    "def display_inlier_outlier(cloud, ind):\n",
    "    inlier_cloud = cloud.select_by_index(ind)\n",
    "    outlier_cloud = cloud.select_by_index(ind, invert=True)\n",
    "\n",
    "    print(\"Showing outliers (red) and inliers (gray): \")\n",
    "    outlier_cloud.paint_uniform_color([1, 0, 0])\n",
    "    inlier_cloud.paint_uniform_color([0.8, 0.8, 0.8])\n",
    "    o3d.visualization.draw_geometries([inlier_cloud, outlier_cloud])"
   ]
  },
  {
   "cell_type": "code",
   "execution_count": null,
   "metadata": {},
   "outputs": [],
   "source": [
    "nn_pcd = color_pcd(pred.detach().numpy()[0], roi_pcd)\n",
    "# o3d.visualization.draw_geometries([nn_pcd], window_name='')"
   ]
  },
  {
   "cell_type": "code",
   "execution_count": null,
   "metadata": {},
   "outputs": [],
   "source": [
    "# output = generate_vis(pred.detach().numpy()[0], predicted_pcd)\n",
    "# k_out = generate_vis(pred_nn, nn_pcd)"
   ]
  },
  {
   "cell_type": "code",
   "execution_count": null,
   "metadata": {},
   "outputs": [],
   "source": [
    "cl, ind = nn_pcd.remove_statistical_outlier(nb_neighbors=2, std_ratio=1.0)\n",
    "# cl, ind = predicted_pcd.remove_radius_outlier(nb_points=16, radius=0.05)\n",
    "# display_inlier_outlier(nn_pcd, ind)"
   ]
  },
  {
   "cell_type": "code",
   "execution_count": null,
   "metadata": {},
   "outputs": [
    {
     "ename": "IndexError",
     "evalue": "tuple index out of range",
     "output_type": "error",
     "traceback": [
      "\u001b[0;31m---------------------------------------------------------------------------\u001b[0m",
      "\u001b[0;31mIndexError\u001b[0m                                Traceback (most recent call last)",
      "\u001b[0;32m/var/folders/9y/hv72k7_d6bd8975p_sj73ych0000gp/T/ipykernel_22228/976667027.py\u001b[0m in \u001b[0;36m<module>\u001b[0;34m\u001b[0m\n\u001b[0;32m----> 1\u001b[0;31m \u001b[0mgenerate_vis\u001b[0m\u001b[0;34m(\u001b[0m\u001b[0mpred_nn\u001b[0m\u001b[0;34m[\u001b[0m\u001b[0mind\u001b[0m\u001b[0;34m]\u001b[0m\u001b[0;34m,\u001b[0m \u001b[0mnn_pcd\u001b[0m\u001b[0;34m.\u001b[0m\u001b[0mselect_by_index\u001b[0m\u001b[0;34m(\u001b[0m\u001b[0mind\u001b[0m\u001b[0;34m)\u001b[0m\u001b[0;34m)\u001b[0m\u001b[0;34m\u001b[0m\u001b[0;34m\u001b[0m\u001b[0m\n\u001b[0m",
      "\u001b[0;32m/var/folders/9y/hv72k7_d6bd8975p_sj73ych0000gp/T/ipykernel_22228/4196223601.py\u001b[0m in \u001b[0;36mgenerate_vis\u001b[0;34m(pred, predicted_pcd, threshold)\u001b[0m\n\u001b[1;32m      1\u001b[0m \u001b[0;32mdef\u001b[0m \u001b[0mgenerate_vis\u001b[0m\u001b[0;34m(\u001b[0m\u001b[0mpred\u001b[0m\u001b[0;34m,\u001b[0m \u001b[0mpredicted_pcd\u001b[0m\u001b[0;34m,\u001b[0m \u001b[0mthreshold\u001b[0m\u001b[0;34m=\u001b[0m\u001b[0;36m0.01\u001b[0m\u001b[0;34m)\u001b[0m\u001b[0;34m:\u001b[0m\u001b[0;34m\u001b[0m\u001b[0;34m\u001b[0m\u001b[0m\n\u001b[1;32m      2\u001b[0m \u001b[0;34m\u001b[0m\u001b[0m\n\u001b[0;32m----> 3\u001b[0;31m     \u001b[0mbox\u001b[0m \u001b[0;34m=\u001b[0m \u001b[0mpredicted_pcd\u001b[0m\u001b[0;34m.\u001b[0m\u001b[0mselect_by_index\u001b[0m\u001b[0;34m(\u001b[0m\u001b[0mnp\u001b[0m\u001b[0;34m.\u001b[0m\u001b[0mwhere\u001b[0m\u001b[0;34m(\u001b[0m\u001b[0mpred\u001b[0m\u001b[0;34m==\u001b[0m\u001b[0;36m1\u001b[0m\u001b[0;34m)\u001b[0m\u001b[0;34m[\u001b[0m\u001b[0;36m1\u001b[0m\u001b[0;34m]\u001b[0m\u001b[0;34m)\u001b[0m\u001b[0;34m\u001b[0m\u001b[0;34m\u001b[0m\u001b[0m\n\u001b[0m\u001b[1;32m      4\u001b[0m     \u001b[0mbox_p\u001b[0m \u001b[0;34m=\u001b[0m \u001b[0mnp\u001b[0m\u001b[0;34m.\u001b[0m\u001b[0marray\u001b[0m\u001b[0;34m(\u001b[0m\u001b[0mbox\u001b[0m\u001b[0;34m.\u001b[0m\u001b[0mpoints\u001b[0m\u001b[0;34m)\u001b[0m\u001b[0;34m\u001b[0m\u001b[0;34m\u001b[0m\u001b[0m\n\u001b[1;32m      5\u001b[0m     \u001b[0mbox_filtered\u001b[0m \u001b[0;34m=\u001b[0m \u001b[0mbox\u001b[0m\u001b[0;34m.\u001b[0m\u001b[0mselect_by_index\u001b[0m\u001b[0;34m(\u001b[0m\u001b[0mnp\u001b[0m\u001b[0;34m.\u001b[0m\u001b[0mwhere\u001b[0m\u001b[0;34m(\u001b[0m\u001b[0mbox_p\u001b[0m\u001b[0;34m[\u001b[0m\u001b[0;34m:\u001b[0m\u001b[0;34m,\u001b[0m \u001b[0;36m2\u001b[0m\u001b[0;34m]\u001b[0m\u001b[0;34m>\u001b[0m\u001b[0mthreshold\u001b[0m\u001b[0;34m)\u001b[0m\u001b[0;34m[\u001b[0m\u001b[0;36m0\u001b[0m\u001b[0;34m]\u001b[0m\u001b[0;34m)\u001b[0m\u001b[0;34m\u001b[0m\u001b[0;34m\u001b[0m\u001b[0m\n",
      "\u001b[0;31mIndexError\u001b[0m: tuple index out of range"
     ]
    }
   ],
   "source": [
    "generate_vis(pred_nn[ind], nn_pcd.select_by_index(ind))"
   ]
  },
  {
   "cell_type": "code",
   "execution_count": null,
   "metadata": {},
   "outputs": [],
   "source": [
    "generate_vis(pred.detach().numpy()[0][ind], predicted_pcd.select_by_index(ind))"
   ]
  },
  {
   "cell_type": "code",
   "execution_count": null,
   "metadata": {},
   "outputs": [],
   "source": [
    "generate_vis(pred.detach().numpy(), predicted_pcd, 0)"
   ]
  },
  {
   "cell_type": "code",
   "execution_count": null,
   "metadata": {},
   "outputs": [
    {
     "data": {
      "text/plain": [
       "array([86.52746081, 81.95562959, 37.92455457])"
      ]
     },
     "execution_count": 231,
     "metadata": {},
     "output_type": "execute_result"
    }
   ],
   "source": [
    "(predicted_pcd.get_max_bound() - predicted_pcd.get_min_bound())*100"
   ]
  },
  {
   "cell_type": "code",
   "execution_count": null,
   "metadata": {},
   "outputs": [],
   "source": []
  }
 ],
 "metadata": {
  "interpreter": {
   "hash": "3da4f59ad0f0f7a92f59c5e6cf444db08b969aa3f9f9c39f0f6babf32b2faf6f"
  },
  "kernelspec": {
   "display_name": "Python 3.8.11 64-bit ('venv_py38': venv)",
   "name": "python3"
  },
  "language_info": {
   "codemirror_mode": {
    "name": "ipython",
    "version": 3
   },
   "file_extension": ".py",
   "mimetype": "text/x-python",
   "name": "python",
   "nbconvert_exporter": "python",
   "pygments_lexer": "ipython3",
   "version": "3.8.12"
  },
  "orig_nbformat": 4
 },
 "nbformat": 4,
 "nbformat_minor": 2
}
